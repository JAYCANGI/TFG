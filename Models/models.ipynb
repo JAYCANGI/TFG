{
 "cells": [
  {
   "cell_type": "code",
   "execution_count": 18,
   "metadata": {},
   "outputs": [
    {
     "name": "stderr",
     "output_type": "stream",
     "text": [
      "[nltk_data] Downloading package stopwords to\n",
      "[nltk_data]     C:\\Users\\jaysh\\AppData\\Roaming\\nltk_data...\n",
      "[nltk_data]   Package stopwords is already up-to-date!\n"
     ]
    }
   ],
   "source": [
    "import sqlite3 as sql\n",
    "import pandas as pd\n",
    "import spacy\n",
    "import nltk\n",
    "nltk.download('stopwords')\n",
    "from nltk.corpus import stopwords\n",
    "import re\n",
    "import tqdm\n",
    "from textblob import TextBlob\n",
    "import matplotlib.pyplot as plt"
   ]
  },
  {
   "cell_type": "code",
   "execution_count": 15,
   "metadata": {},
   "outputs": [
    {
     "name": "stdout",
     "output_type": "stream",
     "text": [
      "Data fetched from the database.\n",
      "<class 'pandas.core.frame.DataFrame'>\n",
      "RangeIndex: 3832 entries, 0 to 3831\n",
      "Data columns (total 9 columns):\n",
      " #   Column          Non-Null Count  Dtype \n",
      "---  ------          --------------  ----- \n",
      " 0   id              3832 non-null   int64 \n",
      " 1   title           3832 non-null   object\n",
      " 2   publish_date    3832 non-null   object\n",
      " 3   text            3832 non-null   object\n",
      " 4   outlier         3832 non-null   int64 \n",
      " 5   truncated_text  3832 non-null   object\n",
      " 6   tokens          3832 non-null   object\n",
      " 7   clean_text      3832 non-null   object\n",
      " 8   clean_title     3832 non-null   object\n",
      "dtypes: int64(2), object(7)\n",
      "memory usage: 269.6+ KB\n",
      "None\n"
     ]
    }
   ],
   "source": [
    "# Connection with the database\n",
    "def connect_to_db(db_path):\n",
    "    try:\n",
    "        conn = sql.connect(db_path)\n",
    "        return conn\n",
    "    except Exception as e:\n",
    "        print(f\"Error connecting to database: {e}\")\n",
    "        return None\n",
    "\n",
    "# Fetch the data from the database\n",
    "def fetch_text_data(conn):\n",
    "    if conn is None:\n",
    "        return pd.DataFrame()  # Return an empty DataFrame if connection failed\n",
    "    query = 'SELECT * FROM content'\n",
    "    df = pd.read_sql_query(query, conn)\n",
    "    return df\n",
    "\n",
    "# Use the absolute path to the database file\n",
    "db_path = 'C:/Users/jaysh/Documents/TFG/Code/data/processed/articles.db'\n",
    "conn = connect_to_db(db_path)\n",
    "df = fetch_text_data(conn)\n",
    "\n",
    "if not df.empty:\n",
    "    print('Data fetched from the database.')\n",
    "    print(df.info())\n",
    "else:\n",
    "    print(\"No data fetched from the database.\")"
   ]
  },
  {
   "cell_type": "code",
   "execution_count": null,
   "metadata": {},
   "outputs": [
    {
     "name": "stdout",
     "output_type": "stream",
     "text": [
      "count    3832.000000\n",
      "mean        0.039364\n",
      "std         0.187481\n",
      "min        -1.000000\n",
      "25%         0.000000\n",
      "50%         0.000000\n",
      "75%         0.100000\n",
      "max         0.900000\n",
      "Name: sentiment_score, dtype: float64\n"
     ]
    }
   ],
   "source": [
    "\n",
    "def get_sentiment(text):\n",
    "    blob = TextBlob(text)\n",
    "    return blob.sentiment.polarity  # -1 (negative) to 1 (positive)\n",
    "\n",
    "df[\"sentiment_score\"] = df[\"clean_text\"].apply(get_sentiment)\n",
    "print(df[\"sentiment_score\"].describe())\n",
    "\n",
    "# Plot the distribution of sentiment scores\n",
    "plt.hist(df[\"sentiment_score\"], bins=20, color='skyblue', edgecolor='black', linewidth=1.2)\n",
    "plt.title('Sentiment Score Distribution')"
   ]
  }
 ],
 "metadata": {
  "kernelspec": {
   "display_name": "tfg_env",
   "language": "python",
   "name": "python3"
  },
  "language_info": {
   "codemirror_mode": {
    "name": "ipython",
    "version": 3
   },
   "file_extension": ".py",
   "mimetype": "text/x-python",
   "name": "python",
   "nbconvert_exporter": "python",
   "pygments_lexer": "ipython3",
   "version": "3.10.16"
  }
 },
 "nbformat": 4,
 "nbformat_minor": 2
}
